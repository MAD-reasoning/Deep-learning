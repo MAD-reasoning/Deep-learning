{
 "cells": [
  {
   "cell_type": "markdown",
   "metadata": {},
   "source": [
    "# Self Organizing Map"
   ]
  },
  {
   "cell_type": "code",
   "execution_count": 14,
   "metadata": {},
   "outputs": [],
   "source": [
    "# Importing the libraries\n",
    "import numpy as np\n",
    "import matplotlib.pyplot as plt\n",
    "import pandas as pd"
   ]
  },
  {
   "cell_type": "code",
   "execution_count": 15,
   "metadata": {},
   "outputs": [],
   "source": [
    "# Importing the dataset\n",
    "dataset = pd.read_csv('Credit_Card_Applications.csv')\n",
    "X = dataset.iloc[:, :-1].values\n",
    "y = dataset.iloc[:, -1].values"
   ]
  },
  {
   "cell_type": "code",
   "execution_count": 16,
   "metadata": {},
   "outputs": [],
   "source": [
    "# Feature Scaling\n",
    "from sklearn.preprocessing import MinMaxScaler\n",
    "sc = MinMaxScaler(feature_range = (0, 1))\n",
    "X = sc.fit_transform(X)"
   ]
  },
  {
   "cell_type": "code",
   "execution_count": 17,
   "metadata": {},
   "outputs": [],
   "source": [
    "# Training the SOM\n",
    "from minisom import MiniSom\n",
    "som = MiniSom(x = 10, y = 10, input_len = 15, sigma = 1.0, learning_rate = 0.5)\n",
    "som.random_weights_init(X)\n",
    "som.train_random(data = X, num_iteration = 1000)"
   ]
  },
  {
   "cell_type": "code",
   "execution_count": 18,
   "metadata": {},
   "outputs": [
    {
     "data": {
      "image/png": "[encoded data removed]",
      "text/plain": [
       "<Figure size 432x288 with 2 Axes>"
      ]
     },
     "metadata": {
      "needs_background": "light"
     },
     "output_type": "display_data"
    }
   ],
   "source": [
    "# Visualizing the results\n",
    "from pylab import bone, pcolor, colorbar, plot, show\n",
    "bone()\n",
    "pcolor(som.distance_map().T)\n",
    "colorbar()\n",
    "markers = ['o', 's']\n",
    "colors = ['r', 'g']\n",
    "for i, x in enumerate(X):\n",
    "    w = som.winner(x)\n",
    "    plot(w[0] + 0.5,\n",
    "         w[1] + 0.5,\n",
    "         markers[y[i]],\n",
    "         markeredgecolor = colors[y[i]],\n",
    "         markerfacecolor = 'None',\n",
    "         markersize = 10,\n",
    "         markeredgewidth = 2)\n",
    "show()"
   ]
  },
  {
   "cell_type": "code",
   "execution_count": 19,
   "metadata": {},
   "outputs": [],
   "source": [
    "# Finding the frauds\n",
    "mappings = som.win_map(X)\n",
    "frauds = np.concatenate((mappings[(8,1)], mappings[(6,8)]), axis = 0)\n",
    "frauds = sc.inverse_transform(frauds)"
   ]
  },
  {
   "cell_type": "code",
   "execution_count": 20,
   "metadata": {},
   "outputs": [
    {
     "data": {
      "text/plain": [
       "array([[15786237,        0,       19,        0,        1,        6,\n",
       "               4,        0,        1,        0,        0,        1,\n",
       "               2,      160,        1],\n",
       "       [15767358,        0,       49,       13,        2,        4,\n",
       "               8,        8,        1,        0,        0,        1,\n",
       "               2,        0,        1],\n",
       "       [15567839,        0,       28,        3,        2,        3,\n",
       "               5,        0,        1,        0,        0,        1,\n",
       "               2,      171,        1],\n",
       "       [15642336,        0,       57,        0,        2,        3,\n",
       "               5,        1,        1,        0,        0,        1,\n",
       "               2,      252,     2198],\n",
       "       [15740487,        0,       49,        1,        2,        5,\n",
       "               3,        0,        1,        0,        0,        1,\n",
       "               2,      100,       28],\n",
       "       [15811742,        0,       36,        5,        2,        9,\n",
       "               4,        5,        1,        0,        0,        1,\n",
       "               2,        0,     4001],\n",
       "       [15715907,        0,       31,        3,        2,        2,\n",
       "               4,        3,        1,        0,        0,        1,\n",
       "               2,      300,        1],\n",
       "       [15768342,        0,       41,        1,        2,        3,\n",
       "               5,        2,        1,        0,        0,        1,\n",
       "               2,        0,      301],\n",
       "       [15748532,        0,       38,        6,        2,        4,\n",
       "               4,        1,        1,        0,        0,        1,\n",
       "               2,        0,        1],\n",
       "       [15788634,        0,       25,        0,        2,        8,\n",
       "               8,        0,        1,        0,        0,        1,\n",
       "               2,      491,        1],\n",
       "       [15618410,        1,       23,        2,        2,        8,\n",
       "               4,        1,        1,        1,       11,        1,\n",
       "               2,       60,     2185],\n",
       "       [15605276,        1,       19,        0,        2,       11,\n",
       "               4,        2,        1,        1,        2,        1,\n",
       "               2,       80,        1],\n",
       "       [15646563,        1,       26,        1,        1,        8,\n",
       "               4,        1,        1,        1,        5,        1,\n",
       "               2,      160,     5778],\n",
       "       [15652048,        1,       13,        4,        1,        9,\n",
       "               4,        1,        1,        1,        2,        1,\n",
       "               2,      120,     1001],\n",
       "       [15580366,        1,       29,        3,        2,        9,\n",
       "               4,        3,        1,        1,        3,        1,\n",
       "               2,      329,        1],\n",
       "       [15583552,        1,       20,        2,        2,        8,\n",
       "               4,        2,        1,        1,       11,        1,\n",
       "               2,      200,     3001]])"
      ]
     },
     "execution_count": 20,
     "metadata": {},
     "output_type": "execute_result"
    }
   ],
   "source": [
    "np.int32(frauds)"
   ]
  },
  {
   "cell_type": "code",
   "execution_count": null,
   "metadata": {},
   "outputs": [],
   "source": []
  }
 ],
 "metadata": {
  "kernelspec": {
   "display_name": "Python 3",
   "language": "python",
   "name": "python3"
  },
  "language_info": {
   "codemirror_mode": {
    "name": "ipython",
    "version": 3
   },
   "file_extension": ".py",
   "mimetype": "text/x-python",
   "name": "python",
   "nbconvert_exporter": "python",
   "pygments_lexer": "ipython3",
   "version": "3.6.7"
  },
  "varInspector": {
   "cols": {
    "lenName": 16,
    "lenType": 16,
    "lenVar": 40
   },
   "kernels_config": {
    "python": {
     "delete_cmd_postfix": "",
     "delete_cmd_prefix": "del ",
     "library": "var_list.py",
     "varRefreshCmd": "print(var_dic_list())"
    },
    "r": {
     "delete_cmd_postfix": ") ",
     "delete_cmd_prefix": "rm(",
     "library": "var_list.r",
     "varRefreshCmd": "cat(var_dic_list()) "
    }
   },
   "types_to_exclude": [
    "module",
    "function",
    "builtin_function_or_method",
    "instance",
    "_Feature"
   ],
   "window_display": false
  }
 },
 "nbformat": 4,
 "nbformat_minor": 2
}
